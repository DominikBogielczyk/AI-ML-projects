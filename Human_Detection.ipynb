{
  "nbformat": 4,
  "nbformat_minor": 0,
  "metadata": {
    "colab": {
      "provenance": []
    },
    "kernelspec": {
      "name": "python3",
      "display_name": "Python 3"
    },
    "language_info": {
      "name": "python"
    }
  },
  "cells": [
    {
      "cell_type": "markdown",
      "source": [
        "**People detection - OpenCV - HOG (Histograms of Oriented Gradients)**"
      ],
      "metadata": {
        "id": "YMeDK3L4oA62"
      }
    },
    {
      "cell_type": "markdown",
      "source": [
        "Libraries and output path"
      ],
      "metadata": {
        "id": "1Op5XsoKUKiy"
      }
    },
    {
      "cell_type": "code",
      "source": [
        "from google.colab import output # console clear\n",
        "from google.colab import drive\n",
        "\n",
        "drive.mount('/content/drive')\n",
        "\n",
        "output_path = '/content/drive/My Drive/HumanDetection/output_video.avi'\n",
        "\n",
        "import numpy as np\n",
        "import cv2\n",
        "import os"
      ],
      "metadata": {
        "colab": {
          "base_uri": "https://localhost:8080/"
        },
        "id": "vcQ0fUQtUNHP",
        "outputId": "3f810153-3621-4e90-f5b9-8618f0e60c66"
      },
      "execution_count": null,
      "outputs": [
        {
          "output_type": "stream",
          "name": "stdout",
          "text": [
            "Mounted at /content/drive\n"
          ]
        }
      ]
    },
    {
      "cell_type": "markdown",
      "source": [
        "Example input videos\n",
        "\n",
        "[Video 1](https://www.pexels.com/video/people-walking-towards-the-sea-during-sunset-854916)\n",
        "\n",
        "[Video 2](https://www.pexels.com/video/people-walking-in-the-sea-bay-4787386/)\n",
        "\n",
        "You can upload them to your Google Drive, i.e. in \"HumanDetection\" directory."
      ],
      "metadata": {
        "id": "YhEOHsLk2V4d"
      }
    },
    {
      "cell_type": "code",
      "source": [
        "input_path = '/content/drive/My Drive/HumanDetection/input_video.mp4'"
      ],
      "metadata": {
        "id": "z-FsnShg2Y-x"
      },
      "execution_count": null,
      "outputs": []
    },
    {
      "cell_type": "markdown",
      "source": [
        "Detector"
      ],
      "metadata": {
        "id": "TOl_SN_1UQOH"
      }
    },
    {
      "cell_type": "code",
      "source": [
        "# initialize the HOG descriptor/person detector\n",
        "hog = cv2.HOGDescriptor()\n",
        "hog.setSVMDetector(cv2.HOGDescriptor_getDefaultPeopleDetector())"
      ],
      "metadata": {
        "id": "3JHdlRaLURpj"
      },
      "execution_count": null,
      "outputs": []
    },
    {
      "cell_type": "markdown",
      "source": [
        "Input and output video capture"
      ],
      "metadata": {
        "id": "bSSqbqjpUWMK"
      }
    },
    {
      "cell_type": "code",
      "source": [
        "cv2.startWindowThread()\n",
        "\n",
        "# open video\n",
        "cap = cv2.VideoCapture(input_path)\n",
        "\n",
        "# the output will be written to output.avi\n",
        "out = cv2.VideoWriter(\n",
        "    output_path,\n",
        "    cv2.VideoWriter_fourcc(*'MJPG'),\n",
        "    15.,\n",
        "    (640, 360))"
      ],
      "metadata": {
        "id": "UuWPcd-2UbF9"
      },
      "execution_count": null,
      "outputs": []
    },
    {
      "cell_type": "markdown",
      "source": [
        "Detection calc"
      ],
      "metadata": {
        "id": "oytG7PXuUdl_"
      }
    },
    {
      "cell_type": "code",
      "source": [
        "total_frames = int(cap.get(cv2.CAP_PROP_FRAME_COUNT))\n",
        "i = 0\n",
        "detected_frames = 0\n",
        "\n",
        "while(True):\n",
        "    # Capture frame-by-frame\n",
        "    ret, frame = cap.read()\n",
        "\n",
        "    if not ret:\n",
        "        break\n",
        "\n",
        "    # resizing for faster detection\n",
        "    frame = cv2.resize(frame, (640, 360))\n",
        "    # using a greyscale picture, also for faster detection\n",
        "    gray = cv2.cvtColor(frame, cv2.COLOR_BGR2GRAY)\n",
        "\n",
        "    # detect people in the image\n",
        "    # returns the bounding boxes for the detected objects\n",
        "    boxes, weights = hog.detectMultiScale(frame, winStride = (8, 8), scale = 1.05)\n",
        "\n",
        "\n",
        "    boxes = np.array([[x, y, x + w, y + h] for (x, y, w, h) in boxes])\n",
        "\n",
        "    if len(boxes) > 0:\n",
        "      detected_frames += 1\n",
        "\n",
        "    for (xA, yA, xB, yB) in boxes:\n",
        "        # display the detected boxes in the colour picture\n",
        "        cv2.rectangle(frame, (xA, yA), (xB, yB),\n",
        "                     (0, 255, 0), 2)\n",
        "\n",
        "    # Write the output video\n",
        "    out.write(frame.astype('uint8'))\n",
        "\n",
        "    # Display the resulting frame\n",
        "    #cv2.imshow('frame', frame)\n",
        "\n",
        "    i += 1\n",
        "\n",
        "    if i % 10 == 0:\n",
        "      output.clear()\n",
        "      print(str(i) + \" of \" + str(total_frames))\n",
        "\n",
        "\n",
        "print(str(i) + \" of \" + str(total_frames))\n",
        "print(\"Detected frames: \" + str(detected_frames))\n",
        "# When everything done, release the capture\n",
        "cap.release()\n",
        "# and release the output\n",
        "out.release()\n",
        "# finally, close the window\n",
        "cv2.destroyAllWindows()\n",
        "\n",
        "drive.flush_and_unmount()\n"
      ],
      "metadata": {
        "colab": {
          "base_uri": "https://localhost:8080/"
        },
        "id": "1peVdoYX2iZO",
        "outputId": "65c143d6-cac5-4219-e217-fbe47618068d"
      },
      "execution_count": null,
      "outputs": [
        {
          "output_type": "stream",
          "name": "stdout",
          "text": [
            "350 of 353\n",
            "353 of 353\n",
            "Detected frames: 220\n"
          ]
        }
      ]
    }
  ]
}